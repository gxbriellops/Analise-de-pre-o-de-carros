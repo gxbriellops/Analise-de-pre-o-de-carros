{
 "cells": [
  {
   "cell_type": "markdown",
   "metadata": {},
   "source": [
    "### 00. Importando as biblíotecas necessárias."
   ]
  },
  {
   "cell_type": "code",
   "execution_count": 868,
   "metadata": {},
   "outputs": [],
   "source": [
    "import pandas as pd\n",
    "import seaborn as sns\n",
    "import matplotlib.pyplot as plt"
   ]
  },
  {
   "cell_type": "code",
   "execution_count": 869,
   "metadata": {},
   "outputs": [],
   "source": [
    "df = pd.read_csv('Kaggle - Car Price.csv')"
   ]
  },
  {
   "cell_type": "markdown",
   "metadata": {},
   "source": [
    "### 01. Entendendo o dataset."
   ]
  },
  {
   "cell_type": "code",
   "execution_count": 870,
   "metadata": {},
   "outputs": [
    {
     "data": {
      "text/html": [
       "<div>\n",
       "<style scoped>\n",
       "    .dataframe tbody tr th:only-of-type {\n",
       "        vertical-align: middle;\n",
       "    }\n",
       "\n",
       "    .dataframe tbody tr th {\n",
       "        vertical-align: top;\n",
       "    }\n",
       "\n",
       "    .dataframe thead th {\n",
       "        text-align: right;\n",
       "    }\n",
       "</style>\n",
       "<table border=\"1\" class=\"dataframe\">\n",
       "  <thead>\n",
       "    <tr style=\"text-align: right;\">\n",
       "      <th></th>\n",
       "      <th>Brand</th>\n",
       "      <th>Year</th>\n",
       "      <th>Engine Size</th>\n",
       "      <th>Fuel Type</th>\n",
       "      <th>Transmission</th>\n",
       "      <th>Mileage</th>\n",
       "      <th>Condition</th>\n",
       "      <th>Price</th>\n",
       "      <th>Model</th>\n",
       "    </tr>\n",
       "  </thead>\n",
       "  <tbody>\n",
       "    <tr>\n",
       "      <th>0</th>\n",
       "      <td>Tesla</td>\n",
       "      <td>2016</td>\n",
       "      <td>2.3</td>\n",
       "      <td>Petrol</td>\n",
       "      <td>Manual</td>\n",
       "      <td>114832</td>\n",
       "      <td>New</td>\n",
       "      <td>26613.92</td>\n",
       "      <td>Model X</td>\n",
       "    </tr>\n",
       "    <tr>\n",
       "      <th>1</th>\n",
       "      <td>BMW</td>\n",
       "      <td>2018</td>\n",
       "      <td>4.4</td>\n",
       "      <td>Electric</td>\n",
       "      <td>Manual</td>\n",
       "      <td>143190</td>\n",
       "      <td>Used</td>\n",
       "      <td>14679.61</td>\n",
       "      <td>5 Series</td>\n",
       "    </tr>\n",
       "    <tr>\n",
       "      <th>2</th>\n",
       "      <td>Audi</td>\n",
       "      <td>2013</td>\n",
       "      <td>4.5</td>\n",
       "      <td>Electric</td>\n",
       "      <td>Manual</td>\n",
       "      <td>181601</td>\n",
       "      <td>New</td>\n",
       "      <td>44402.61</td>\n",
       "      <td>A4</td>\n",
       "    </tr>\n",
       "    <tr>\n",
       "      <th>3</th>\n",
       "      <td>Tesla</td>\n",
       "      <td>2011</td>\n",
       "      <td>4.1</td>\n",
       "      <td>Diesel</td>\n",
       "      <td>Automatic</td>\n",
       "      <td>68682</td>\n",
       "      <td>New</td>\n",
       "      <td>86374.33</td>\n",
       "      <td>Model Y</td>\n",
       "    </tr>\n",
       "    <tr>\n",
       "      <th>4</th>\n",
       "      <td>Ford</td>\n",
       "      <td>2009</td>\n",
       "      <td>2.6</td>\n",
       "      <td>Diesel</td>\n",
       "      <td>Manual</td>\n",
       "      <td>223009</td>\n",
       "      <td>Like New</td>\n",
       "      <td>73577.10</td>\n",
       "      <td>Mustang</td>\n",
       "    </tr>\n",
       "    <tr>\n",
       "      <th>...</th>\n",
       "      <td>...</td>\n",
       "      <td>...</td>\n",
       "      <td>...</td>\n",
       "      <td>...</td>\n",
       "      <td>...</td>\n",
       "      <td>...</td>\n",
       "      <td>...</td>\n",
       "      <td>...</td>\n",
       "      <td>...</td>\n",
       "    </tr>\n",
       "    <tr>\n",
       "      <th>2495</th>\n",
       "      <td>Audi</td>\n",
       "      <td>2020</td>\n",
       "      <td>2.4</td>\n",
       "      <td>Petrol</td>\n",
       "      <td>Automatic</td>\n",
       "      <td>22650</td>\n",
       "      <td>Like New</td>\n",
       "      <td>61384.10</td>\n",
       "      <td>Q5</td>\n",
       "    </tr>\n",
       "    <tr>\n",
       "      <th>2496</th>\n",
       "      <td>Audi</td>\n",
       "      <td>2001</td>\n",
       "      <td>5.7</td>\n",
       "      <td>Hybrid</td>\n",
       "      <td>Manual</td>\n",
       "      <td>77701</td>\n",
       "      <td>Like New</td>\n",
       "      <td>24710.35</td>\n",
       "      <td>A3</td>\n",
       "    </tr>\n",
       "    <tr>\n",
       "      <th>2497</th>\n",
       "      <td>Ford</td>\n",
       "      <td>2021</td>\n",
       "      <td>1.1</td>\n",
       "      <td>Hybrid</td>\n",
       "      <td>Manual</td>\n",
       "      <td>272827</td>\n",
       "      <td>Like New</td>\n",
       "      <td>29902.45</td>\n",
       "      <td>Fiesta</td>\n",
       "    </tr>\n",
       "    <tr>\n",
       "      <th>2498</th>\n",
       "      <td>Audi</td>\n",
       "      <td>2002</td>\n",
       "      <td>4.5</td>\n",
       "      <td>Diesel</td>\n",
       "      <td>Manual</td>\n",
       "      <td>229164</td>\n",
       "      <td>Like New</td>\n",
       "      <td>46085.67</td>\n",
       "      <td>Q5</td>\n",
       "    </tr>\n",
       "    <tr>\n",
       "      <th>2499</th>\n",
       "      <td>Toyota</td>\n",
       "      <td>2005</td>\n",
       "      <td>4.6</td>\n",
       "      <td>Diesel</td>\n",
       "      <td>Automatic</td>\n",
       "      <td>80978</td>\n",
       "      <td>Used</td>\n",
       "      <td>16594.14</td>\n",
       "      <td>RAV4</td>\n",
       "    </tr>\n",
       "  </tbody>\n",
       "</table>\n",
       "<p>2500 rows × 9 columns</p>\n",
       "</div>"
      ],
      "text/plain": [
       "       Brand  Year  Engine Size Fuel Type Transmission  Mileage Condition  \\\n",
       "0      Tesla  2016          2.3    Petrol       Manual   114832       New   \n",
       "1        BMW  2018          4.4  Electric       Manual   143190      Used   \n",
       "2       Audi  2013          4.5  Electric       Manual   181601       New   \n",
       "3      Tesla  2011          4.1    Diesel    Automatic    68682       New   \n",
       "4       Ford  2009          2.6    Diesel       Manual   223009  Like New   \n",
       "...      ...   ...          ...       ...          ...      ...       ...   \n",
       "2495    Audi  2020          2.4    Petrol    Automatic    22650  Like New   \n",
       "2496    Audi  2001          5.7    Hybrid       Manual    77701  Like New   \n",
       "2497    Ford  2021          1.1    Hybrid       Manual   272827  Like New   \n",
       "2498    Audi  2002          4.5    Diesel       Manual   229164  Like New   \n",
       "2499  Toyota  2005          4.6    Diesel    Automatic    80978      Used   \n",
       "\n",
       "         Price     Model  \n",
       "0     26613.92   Model X  \n",
       "1     14679.61  5 Series  \n",
       "2     44402.61        A4  \n",
       "3     86374.33   Model Y  \n",
       "4     73577.10   Mustang  \n",
       "...        ...       ...  \n",
       "2495  61384.10        Q5  \n",
       "2496  24710.35        A3  \n",
       "2497  29902.45    Fiesta  \n",
       "2498  46085.67        Q5  \n",
       "2499  16594.14      RAV4  \n",
       "\n",
       "[2500 rows x 9 columns]"
      ]
     },
     "execution_count": 870,
     "metadata": {},
     "output_type": "execute_result"
    }
   ],
   "source": [
    "df = df.drop(columns='Car ID')\n",
    "df"
   ]
  },
  {
   "cell_type": "markdown",
   "metadata": {},
   "source": [
    "**Verificando valores únicos no dataset**"
   ]
  },
  {
   "cell_type": "code",
   "execution_count": 871,
   "metadata": {},
   "outputs": [
    {
     "data": {
      "text/plain": [
       "Brand              7\n",
       "Year              24\n",
       "Engine Size       51\n",
       "Fuel Type          4\n",
       "Transmission       2\n",
       "Mileage         2490\n",
       "Condition          3\n",
       "Price           2499\n",
       "Model             28\n",
       "dtype: int64"
      ]
     },
     "execution_count": 871,
     "metadata": {},
     "output_type": "execute_result"
    }
   ],
   "source": [
    "df.nunique()"
   ]
  },
  {
   "cell_type": "markdown",
   "metadata": {},
   "source": [
    "**Verificando se há valores faltantes no dataset**"
   ]
  },
  {
   "cell_type": "code",
   "execution_count": 872,
   "metadata": {},
   "outputs": [
    {
     "data": {
      "text/plain": [
       "Brand           0\n",
       "Year            0\n",
       "Engine Size     0\n",
       "Fuel Type       0\n",
       "Transmission    0\n",
       "Mileage         0\n",
       "Condition       0\n",
       "Price           0\n",
       "Model           0\n",
       "dtype: int64"
      ]
     },
     "execution_count": 872,
     "metadata": {},
     "output_type": "execute_result"
    }
   ],
   "source": [
    "df.isnull().sum()"
   ]
  },
  {
   "cell_type": "markdown",
   "metadata": {},
   "source": [
    "### 02. Analise univariada"
   ]
  },
  {
   "cell_type": "markdown",
   "metadata": {},
   "source": [
    "**Analise as estatisticas descritivas do preço dos carros.**"
   ]
  },
  {
   "cell_type": "code",
   "execution_count": 873,
   "metadata": {},
   "outputs": [
    {
     "data": {
      "text/html": [
       "<div>\n",
       "<style scoped>\n",
       "    .dataframe tbody tr th:only-of-type {\n",
       "        vertical-align: middle;\n",
       "    }\n",
       "\n",
       "    .dataframe tbody tr th {\n",
       "        vertical-align: top;\n",
       "    }\n",
       "\n",
       "    .dataframe thead th {\n",
       "        text-align: right;\n",
       "    }\n",
       "</style>\n",
       "<table border=\"1\" class=\"dataframe\">\n",
       "  <thead>\n",
       "    <tr style=\"text-align: right;\">\n",
       "      <th></th>\n",
       "      <th>Price</th>\n",
       "    </tr>\n",
       "  </thead>\n",
       "  <tbody>\n",
       "    <tr>\n",
       "      <th>count</th>\n",
       "      <td>2500.00</td>\n",
       "    </tr>\n",
       "    <tr>\n",
       "      <th>mean</th>\n",
       "      <td>52638.02</td>\n",
       "    </tr>\n",
       "    <tr>\n",
       "      <th>std</th>\n",
       "      <td>27295.83</td>\n",
       "    </tr>\n",
       "    <tr>\n",
       "      <th>min</th>\n",
       "      <td>5011.27</td>\n",
       "    </tr>\n",
       "    <tr>\n",
       "      <th>25%</th>\n",
       "      <td>28908.48</td>\n",
       "    </tr>\n",
       "    <tr>\n",
       "      <th>50%</th>\n",
       "      <td>53485.24</td>\n",
       "    </tr>\n",
       "    <tr>\n",
       "      <th>75%</th>\n",
       "      <td>75838.53</td>\n",
       "    </tr>\n",
       "    <tr>\n",
       "      <th>max</th>\n",
       "      <td>99982.59</td>\n",
       "    </tr>\n",
       "  </tbody>\n",
       "</table>\n",
       "</div>"
      ],
      "text/plain": [
       "          Price\n",
       "count   2500.00\n",
       "mean   52638.02\n",
       "std    27295.83\n",
       "min     5011.27\n",
       "25%    28908.48\n",
       "50%    53485.24\n",
       "75%    75838.53\n",
       "max    99982.59"
      ]
     },
     "execution_count": 873,
     "metadata": {},
     "output_type": "execute_result"
    }
   ],
   "source": [
    "price_table = pd.DataFrame(df.Price.describe())\n",
    "price_table = price_table.round(2)\n",
    "price_table"
   ]
  },
  {
   "cell_type": "markdown",
   "metadata": {},
   "source": [
    "Boxplot para os preços dos carros."
   ]
  },
  {
   "cell_type": "code",
   "execution_count": 874,
   "metadata": {},
   "outputs": [
    {
     "data": {
      "image/png": "[encoded data removed]",
      "text/plain": [
       "<Figure size 640x480 with 1 Axes>"
      ]
     },
     "metadata": {},
     "output_type": "display_data"
    }
   ],
   "source": [
    "plt.Figure(figsize=(12, 8))\n",
    "sns.set_color_codes('deep')\n",
    "sns.boxplot(data=df, y='Price', color='b', saturation=0.60)\n",
    "plt.title('Distribuição de valores dos carros')\n",
    "plt.xlabel('Preço')\n",
    "plt.ylabel('Varia;áo')\n",
    "plt.tight_layout()"
   ]
  },
  {
   "cell_type": "code",
   "execution_count": 875,
   "metadata": {},
   "outputs": [
    {
     "data": {
      "image/png": "[encoded data removed]",
      "text/plain": [
       "<Figure size 640x480 with 1 Axes>"
      ]
     },
     "metadata": {},
     "output_type": "display_data"
    }
   ],
   "source": [
    "plt.Figure(figsize=(12, 8))\n",
    "sns.histplot(df['Price'], bins=30, kde=False, color='b')\n",
    "plt.xlabel('Valor')\n",
    "plt.ylabel('Contagem de carros com a faixa')\n",
    "plt.title('Histograma da contagem de preços')\n",
    "plt.tight_layout()"
   ]
  },
  {
   "cell_type": "markdown",
   "metadata": {},
   "source": [
    "**Tanto nos gráficos quanto na analise descritivas dos preços dos carros podemos ver que são bem distribuidos. Nenhum carro com um preço discrepante para que seja identificado como um outlier. Tendo como inicio preços que variam de 5 mil a 100 mil dolares (bigodes do gráfico), porem os preços se concentram entre 30 e aproximadamente 80 mil(parte preenchida do gráfico), sendo a mediana (linha do meio) 55 mil.**"
   ]
  },
  {
   "cell_type": "markdown",
   "metadata": {},
   "source": [
    "Qual a proporção de carros para cada tipo de combustivel? E para as condições deles?"
   ]
  },
  {
   "cell_type": "code",
   "execution_count": 876,
   "metadata": {},
   "outputs": [],
   "source": [
    "fuel_values = df['Fuel Type'].value_counts()\n",
    "condition_values = df.Condition.value_counts()"
   ]
  },
  {
   "cell_type": "code",
   "execution_count": 877,
   "metadata": {},
   "outputs": [
    {
     "data": {
      "image/png": "[encoded data removed]",
      "text/plain": [
       "<Figure size 640x480 with 1 Axes>"
      ]
     },
     "metadata": {},
     "output_type": "display_data"
    }
   ],
   "source": [
    "plt.Figure(figsize=(12, 8))\n",
    "sns.barplot(x=fuel_values.index, y=fuel_values.values, color='b', saturation=0.80)\n",
    "plt.xlabel('Tipo de combustível')\n",
    "plt.ylabel('Contagem')\n",
    "plt.title('Distribução de combustíveis')\n",
    "plt.tight_layout()"
   ]
  },
  {
   "cell_type": "code",
   "execution_count": 878,
   "metadata": {},
   "outputs": [
    {
     "data": {
      "image/png": "[encoded data removed]",
      "text/plain": [
       "<Figure size 640x480 with 1 Axes>"
      ]
     },
     "metadata": {},
     "output_type": "display_data"
    }
   ],
   "source": [
    "plt.Figure(figsize=(12, 8))\n",
    "sns.barplot(x=condition_values.index, y=condition_values.values, color='b', saturation=0.80)\n",
    "plt.xlabel('Tipo de condição')\n",
    "plt.ylabel('Contagem')\n",
    "plt.title('Distribução de condições')\n",
    "plt.tight_layout()"
   ]
  },
  {
   "cell_type": "markdown",
   "metadata": {},
   "source": [
    "**As distribuições de condição e combustiveis são bem homogeneas.**"
   ]
  },
  {
   "cell_type": "markdown",
   "metadata": {},
   "source": [
    "Quais são as 5 marcas mais comuns presentes nos dados?"
   ]
  },
  {
   "cell_type": "code",
   "execution_count": 879,
   "metadata": {},
   "outputs": [
    {
     "data": {
      "text/plain": [
       "Brand\n",
       "Toyota      374\n",
       "Audi        368\n",
       "BMW         358\n",
       "Mercedes    353\n",
       "Honda       352\n",
       "Name: count, dtype: int64"
      ]
     },
     "execution_count": 879,
     "metadata": {},
     "output_type": "execute_result"
    }
   ],
   "source": [
    "brand_values = df.Brand.value_counts().head(5)\n",
    "brand_values"
   ]
  },
  {
   "cell_type": "code",
   "execution_count": 880,
   "metadata": {},
   "outputs": [
    {
     "data": {
      "image/png": "[encoded data removed]",
      "text/plain": [
       "<Figure size 1200x800 with 1 Axes>"
      ]
     },
     "metadata": {},
     "output_type": "display_data"
    }
   ],
   "source": [
    "plt.figure(figsize=(12, 8))\n",
    "sns.barplot(x=brand_values.index, y=brand_values.values, color='b')\n",
    "plt.title('Distribuição de marcas')\n",
    "plt.xlabel('Marcas')\n",
    "plt.ylabel('Contagem')\n",
    "plt.tight_layout()"
   ]
  },
  {
   "cell_type": "markdown",
   "metadata": {},
   "source": [
    "### 03. Analise bivariada"
   ]
  },
  {
   "cell_type": "markdown",
   "metadata": {},
   "source": [
    "Existe alguma relação entre o ano do carro e o preço?"
   ]
  },
  {
   "cell_type": "code",
   "execution_count": 881,
   "metadata": {},
   "outputs": [],
   "source": [
    "# filtranso as váriaveis alvo\n",
    "dfcorre1 = df[['Year', 'Price']]"
   ]
  },
  {
   "cell_type": "code",
   "execution_count": 882,
   "metadata": {},
   "outputs": [
    {
     "data": {
      "text/html": [
       "<div>\n",
       "<style scoped>\n",
       "    .dataframe tbody tr th:only-of-type {\n",
       "        vertical-align: middle;\n",
       "    }\n",
       "\n",
       "    .dataframe tbody tr th {\n",
       "        vertical-align: top;\n",
       "    }\n",
       "\n",
       "    .dataframe thead th {\n",
       "        text-align: right;\n",
       "    }\n",
       "</style>\n",
       "<table border=\"1\" class=\"dataframe\">\n",
       "  <thead>\n",
       "    <tr style=\"text-align: right;\">\n",
       "      <th></th>\n",
       "      <th>Year</th>\n",
       "      <th>Price</th>\n",
       "    </tr>\n",
       "  </thead>\n",
       "  <tbody>\n",
       "    <tr>\n",
       "      <th>Year</th>\n",
       "      <td>1.000000</td>\n",
       "      <td>-0.036805</td>\n",
       "    </tr>\n",
       "    <tr>\n",
       "      <th>Price</th>\n",
       "      <td>-0.036805</td>\n",
       "      <td>1.000000</td>\n",
       "    </tr>\n",
       "  </tbody>\n",
       "</table>\n",
       "</div>"
      ],
      "text/plain": [
       "           Year     Price\n",
       "Year   1.000000 -0.036805\n",
       "Price -0.036805  1.000000"
      ]
     },
     "execution_count": 882,
     "metadata": {},
     "output_type": "execute_result"
    }
   ],
   "source": [
    "correlation_matrix_1 = dfcorre1.corr()\n",
    "correlation_matrix_1"
   ]
  },
  {
   "cell_type": "code",
   "execution_count": 883,
   "metadata": {},
   "outputs": [
    {
     "data": {
      "image/png": "[encoded data removed]",
      "text/plain": [
       "<Figure size 640x480 with 2 Axes>"
      ]
     },
     "metadata": {},
     "output_type": "display_data"
    }
   ],
   "source": [
    "plt.Figure(figsize=(12, 8))\n",
    "sns.heatmap(data=correlation_matrix_1, annot=True, fmt='.2f', cmap='coolwarm', linewidths=0.5, robust=True)\n",
    "plt.title('Analise de correlação entre Preço e Ano')\n",
    "plt.tight_layout()"
   ]
  },
  {
   "cell_type": "markdown",
   "metadata": {},
   "source": [
    "No gráfico de calor é indicado uma leve correlação negativa. Isso indica que **o ano não é uma variável que influencia tanto assim no preço do carro (tanto para o aumento como também na baixa de preço)**"
   ]
  },
  {
   "cell_type": "markdown",
   "metadata": {},
   "source": [
    "Distribuição usando lineplot (gráfico de linha) que representa os valores para cada ano."
   ]
  },
  {
   "cell_type": "code",
   "execution_count": 884,
   "metadata": {},
   "outputs": [
    {
     "data": {
      "image/png": "[encoded data removed]",
      "text/plain": [
       "<Figure size 640x480 with 1 Axes>"
      ]
     },
     "metadata": {},
     "output_type": "display_data"
    }
   ],
   "source": [
    "plt.Figure(figsize=(12, 8))\n",
    "sns.lineplot(data=df, x='Year', y='Price')\n",
    "plt.title('Evolução de Valores conforme o ano')\n",
    "plt.xlabel('Ano')\n",
    "plt.ylabel('Valor em Dolar $')\n",
    "plt.tight_layout()"
   ]
  },
  {
   "cell_type": "code",
   "execution_count": 885,
   "metadata": {},
   "outputs": [],
   "source": [
    "mean_price_byyear = df.groupby('Year')['Price'].mean()"
   ]
  },
  {
   "cell_type": "code",
   "execution_count": 886,
   "metadata": {},
   "outputs": [
    {
     "data": {
      "image/png": "[encoded data removed]",
      "text/plain": [
       "<Figure size 640x480 with 1 Axes>"
      ]
     },
     "metadata": {},
     "output_type": "display_data"
    }
   ],
   "source": [
    "plt.Figure(figsize=(12, 8))\n",
    "sns.barplot(x=mean_price_byyear.index, y=mean_price_byyear.values, color='b')\n",
    "plt.title('Média de preço por ano')\n",
    "plt.xlabel('Ano')\n",
    "plt.ylabel('Valor')\n",
    "plt.xticks(rotation=45)\n",
    "plt.tight_layout()"
   ]
  },
  {
   "cell_type": "markdown",
   "metadata": {},
   "source": [
    "No gráfico de linhas é notado uma distribuição considerável de variação de preços entre os anos. Porem esse gráfico não está com uma base de y 0, o que significa que não temos a proporção correta dos dados nesse gráfico. <br><br>**Quando olhamos o histograma, podemos ver que os valores se matem quase sem uma alta ou baixa significativa.** <br><br>Porem alguns fatores podem determinar isso. <br> \n",
    "\n",
    "**01.Inflação:** A inflação constante tende a aumentar o preço médio dos carros ao longo dos anos. Mesmo que o preço nominal aumente, isso pode não refletir uma alta real no valor.\n",
    "\n",
    "**02.Avanço tecnológico:** Carros com mais tecnologia e funcionalidades tendem a custar mais, mas esses avanços muitas vezes são compensados por reduções de custo na fabricação em massa.\n",
    "\n",
    "**03.Concorrência:** A competição entre fabricantes pode segurar aumentos excessivos nos preços, mesmo em cenários de alta demanda.\n"
   ]
  },
  {
   "cell_type": "markdown",
   "metadata": {},
   "source": [
    "Distancia dos valores médios para cada condição e comente o que você encontrou."
   ]
  },
  {
   "cell_type": "code",
   "execution_count": 887,
   "metadata": {},
   "outputs": [
    {
     "data": {
      "text/html": [
       "<div>\n",
       "<style scoped>\n",
       "    .dataframe tbody tr th:only-of-type {\n",
       "        vertical-align: middle;\n",
       "    }\n",
       "\n",
       "    .dataframe tbody tr th {\n",
       "        vertical-align: top;\n",
       "    }\n",
       "\n",
       "    .dataframe thead th {\n",
       "        text-align: right;\n",
       "    }\n",
       "</style>\n",
       "<table border=\"1\" class=\"dataframe\">\n",
       "  <thead>\n",
       "    <tr style=\"text-align: right;\">\n",
       "      <th></th>\n",
       "      <th>Condition</th>\n",
       "      <th>Price</th>\n",
       "    </tr>\n",
       "  </thead>\n",
       "  <tbody>\n",
       "    <tr>\n",
       "      <th>0</th>\n",
       "      <td>Like New</td>\n",
       "      <td>53518.75</td>\n",
       "    </tr>\n",
       "    <tr>\n",
       "      <th>1</th>\n",
       "      <td>New</td>\n",
       "      <td>51904.51</td>\n",
       "    </tr>\n",
       "    <tr>\n",
       "      <th>2</th>\n",
       "      <td>Used</td>\n",
       "      <td>52470.92</td>\n",
       "    </tr>\n",
       "  </tbody>\n",
       "</table>\n",
       "</div>"
      ],
      "text/plain": [
       "  Condition     Price\n",
       "0  Like New  53518.75\n",
       "1       New  51904.51\n",
       "2      Used  52470.92"
      ]
     },
     "execution_count": 887,
     "metadata": {},
     "output_type": "execute_result"
    }
   ],
   "source": [
    "mean_price_by_condition = df.groupby('Condition')['Price'].mean()\n",
    "mean_price_by_condition = pd.DataFrame(mean_price_by_condition).reset_index().round(2)\n",
    "mean_price_by_condition"
   ]
  },
  {
   "cell_type": "markdown",
   "metadata": {},
   "source": [
    "Segundo os dados, os carros Novos são ligeiramente mais baratos que os carros Seminovos. **O que é contraintuitivo,** mas isso pode acontecer por alguns motivos: <br><br> 1) Os carros seminovos podem ser de fabricantes mais caras. <br> 2) Pode haver alguma modificação ou acessórios que elevem o custo do carro. <br>3) Pode serque a diferença na média exista, mas seja meramente resultado do acaso e que os valores sejam simplismente muito próximos."
   ]
  },
  {
   "cell_type": "markdown",
   "metadata": {},
   "source": [
    "Qual a média de quilometragem por condição? Quais as marcas presentes para cada condição existente em nosso conjunto de dados."
   ]
  },
  {
   "cell_type": "code",
   "execution_count": 888,
   "metadata": {},
   "outputs": [
    {
     "data": {
      "text/html": [
       "<div>\n",
       "<style scoped>\n",
       "    .dataframe tbody tr th:only-of-type {\n",
       "        vertical-align: middle;\n",
       "    }\n",
       "\n",
       "    .dataframe tbody tr th {\n",
       "        vertical-align: top;\n",
       "    }\n",
       "\n",
       "    .dataframe thead th {\n",
       "        text-align: right;\n",
       "    }\n",
       "</style>\n",
       "<table border=\"1\" class=\"dataframe\">\n",
       "  <thead>\n",
       "    <tr style=\"text-align: right;\">\n",
       "      <th></th>\n",
       "      <th>Mileage</th>\n",
       "    </tr>\n",
       "    <tr>\n",
       "      <th>Condition</th>\n",
       "      <th></th>\n",
       "    </tr>\n",
       "  </thead>\n",
       "  <tbody>\n",
       "    <tr>\n",
       "      <th>Like New</th>\n",
       "      <td>151986.43</td>\n",
       "    </tr>\n",
       "    <tr>\n",
       "      <th>New</th>\n",
       "      <td>148667.97</td>\n",
       "    </tr>\n",
       "    <tr>\n",
       "      <th>Used</th>\n",
       "      <td>148586.63</td>\n",
       "    </tr>\n",
       "  </tbody>\n",
       "</table>\n",
       "</div>"
      ],
      "text/plain": [
       "             Mileage\n",
       "Condition           \n",
       "Like New   151986.43\n",
       "New        148667.97\n",
       "Used       148586.63"
      ]
     },
     "execution_count": 888,
     "metadata": {},
     "output_type": "execute_result"
    }
   ],
   "source": [
    "mean_ml_by_cond = df.groupby('Condition')['Mileage'].mean()\n",
    "mean_ml_by_cond = pd.DataFrame(mean_ml_by_cond).round(2)\n",
    "mean_ml_by_cond"
   ]
  },
  {
   "cell_type": "code",
   "execution_count": 889,
   "metadata": {},
   "outputs": [
    {
     "data": {
      "text/html": [
       "<div>\n",
       "<style scoped>\n",
       "    .dataframe tbody tr th:only-of-type {\n",
       "        vertical-align: middle;\n",
       "    }\n",
       "\n",
       "    .dataframe tbody tr th {\n",
       "        vertical-align: top;\n",
       "    }\n",
       "\n",
       "    .dataframe thead th {\n",
       "        text-align: right;\n",
       "    }\n",
       "</style>\n",
       "<table border=\"1\" class=\"dataframe\">\n",
       "  <thead>\n",
       "    <tr style=\"text-align: right;\">\n",
       "      <th>Condition</th>\n",
       "      <th>Like New</th>\n",
       "      <th>New</th>\n",
       "      <th>Used</th>\n",
       "    </tr>\n",
       "    <tr>\n",
       "      <th>Brand</th>\n",
       "      <th></th>\n",
       "      <th></th>\n",
       "      <th></th>\n",
       "    </tr>\n",
       "  </thead>\n",
       "  <tbody>\n",
       "    <tr>\n",
       "      <th>Audi</th>\n",
       "      <td>111</td>\n",
       "      <td>129</td>\n",
       "      <td>128</td>\n",
       "    </tr>\n",
       "    <tr>\n",
       "      <th>BMW</th>\n",
       "      <td>138</td>\n",
       "      <td>104</td>\n",
       "      <td>116</td>\n",
       "    </tr>\n",
       "    <tr>\n",
       "      <th>Ford</th>\n",
       "      <td>124</td>\n",
       "      <td>113</td>\n",
       "      <td>110</td>\n",
       "    </tr>\n",
       "    <tr>\n",
       "      <th>Honda</th>\n",
       "      <td>123</td>\n",
       "      <td>109</td>\n",
       "      <td>120</td>\n",
       "    </tr>\n",
       "    <tr>\n",
       "      <th>Mercedes</th>\n",
       "      <td>110</td>\n",
       "      <td>115</td>\n",
       "      <td>128</td>\n",
       "    </tr>\n",
       "    <tr>\n",
       "      <th>Tesla</th>\n",
       "      <td>121</td>\n",
       "      <td>119</td>\n",
       "      <td>108</td>\n",
       "    </tr>\n",
       "    <tr>\n",
       "      <th>Toyota</th>\n",
       "      <td>109</td>\n",
       "      <td>120</td>\n",
       "      <td>145</td>\n",
       "    </tr>\n",
       "  </tbody>\n",
       "</table>\n",
       "</div>"
      ],
      "text/plain": [
       "Condition  Like New  New  Used\n",
       "Brand                         \n",
       "Audi            111  129   128\n",
       "BMW             138  104   116\n",
       "Ford            124  113   110\n",
       "Honda           123  109   120\n",
       "Mercedes        110  115   128\n",
       "Tesla           121  119   108\n",
       "Toyota          109  120   145"
      ]
     },
     "execution_count": 889,
     "metadata": {},
     "output_type": "execute_result"
    }
   ],
   "source": [
    "cross_brand_cond = pd.crosstab(df['Brand'], df['Condition'])\n",
    "cross_brand_cond"
   ]
  },
  {
   "cell_type": "code",
   "execution_count": 890,
   "metadata": {},
   "outputs": [
    {
     "data": {
      "text/html": [
       "<div>\n",
       "<style scoped>\n",
       "    .dataframe tbody tr th:only-of-type {\n",
       "        vertical-align: middle;\n",
       "    }\n",
       "\n",
       "    .dataframe tbody tr th {\n",
       "        vertical-align: top;\n",
       "    }\n",
       "\n",
       "    .dataframe thead th {\n",
       "        text-align: right;\n",
       "    }\n",
       "</style>\n",
       "<table border=\"1\" class=\"dataframe\">\n",
       "  <thead>\n",
       "    <tr style=\"text-align: right;\">\n",
       "      <th>Condition</th>\n",
       "      <th>Like New</th>\n",
       "      <th>New</th>\n",
       "      <th>Used</th>\n",
       "    </tr>\n",
       "    <tr>\n",
       "      <th>Brand</th>\n",
       "      <th></th>\n",
       "      <th></th>\n",
       "      <th></th>\n",
       "    </tr>\n",
       "  </thead>\n",
       "  <tbody>\n",
       "    <tr>\n",
       "      <th>Audi</th>\n",
       "      <td>30.16</td>\n",
       "      <td>35.05</td>\n",
       "      <td>34.78</td>\n",
       "    </tr>\n",
       "    <tr>\n",
       "      <th>BMW</th>\n",
       "      <td>38.55</td>\n",
       "      <td>29.05</td>\n",
       "      <td>32.40</td>\n",
       "    </tr>\n",
       "    <tr>\n",
       "      <th>Ford</th>\n",
       "      <td>35.73</td>\n",
       "      <td>32.56</td>\n",
       "      <td>31.70</td>\n",
       "    </tr>\n",
       "    <tr>\n",
       "      <th>Honda</th>\n",
       "      <td>34.94</td>\n",
       "      <td>30.97</td>\n",
       "      <td>34.09</td>\n",
       "    </tr>\n",
       "    <tr>\n",
       "      <th>Mercedes</th>\n",
       "      <td>31.16</td>\n",
       "      <td>32.58</td>\n",
       "      <td>36.26</td>\n",
       "    </tr>\n",
       "    <tr>\n",
       "      <th>Tesla</th>\n",
       "      <td>34.77</td>\n",
       "      <td>34.20</td>\n",
       "      <td>31.03</td>\n",
       "    </tr>\n",
       "    <tr>\n",
       "      <th>Toyota</th>\n",
       "      <td>29.14</td>\n",
       "      <td>32.09</td>\n",
       "      <td>38.77</td>\n",
       "    </tr>\n",
       "  </tbody>\n",
       "</table>\n",
       "</div>"
      ],
      "text/plain": [
       "Condition  Like New    New   Used\n",
       "Brand                            \n",
       "Audi          30.16  35.05  34.78\n",
       "BMW           38.55  29.05  32.40\n",
       "Ford          35.73  32.56  31.70\n",
       "Honda         34.94  30.97  34.09\n",
       "Mercedes      31.16  32.58  36.26\n",
       "Tesla         34.77  34.20  31.03\n",
       "Toyota        29.14  32.09  38.77"
      ]
     },
     "execution_count": 890,
     "metadata": {},
     "output_type": "execute_result"
    }
   ],
   "source": [
    "cross_brand_cond = cross_brand_cond.apply(lambda x: x/x.sum(), axis=1) * 100\n",
    "cross_brand_cond = cross_brand_cond.round(2)\n",
    "cross_brand_cond"
   ]
  },
  {
   "cell_type": "markdown",
   "metadata": {},
   "source": [
    "1. **Tendências Gerais**:\n",
    "   - **Veículos \"Like New\"**: Marcas como BMW, Ford, Honda e Tesla têm uma alta porcentagem de veículos na condição \"Like New\", sugerindo que esses veículos são bem mantidos ou têm uma alta taxa de revenda em boas condições.\n",
    "   - **Veículos \"New\"**: Audi e Tesla têm uma alta porcentagem de veículos novos, indicando uma forte presença de veículos recém-adquiridos no mercado.\n",
    "   - **Veículos \"Used\"**: Mercedes e Toyota têm uma alta porcentagem de veículos usados, o que pode indicar uma maior durabilidade ou uma maior aceitação de veículos usados entre os consumidores dessas marcas.\n",
    "\n",
    "2. **Recomendações para Estratégias de Marketing**:\n",
    "   - **Audi e Tesla**: Focar em campanhas que destacam a disponibilidade de veículos novos, aproveitando a alta porcentagem de veículos novos nessas marcas.\n",
    "   - **BMW, Ford, Honda e Tesla**: Promover a qualidade e a manutenção dos veículos \"Like New\", destacando a boa condição dos veículos disponíveis.\n",
    "   - **Mercedes e Toyota**: Enfatizar a durabilidade e a confiabilidade dos veículos usados, aproveitando a alta porcentagem de veículos usados nessas marcas."
   ]
  },
  {
   "cell_type": "markdown",
   "metadata": {},
   "source": [
    "quantidade de carros para cada condição."
   ]
  },
  {
   "cell_type": "code",
   "execution_count": 891,
   "metadata": {},
   "outputs": [],
   "source": [
    "grouped = df.groupby(['Year', 'Condition']).size().unstack(fill_value=0)\n",
    "years = grouped.index\n",
    "new = grouped.get('New', 0)\n",
    "like_new = grouped.get('Like New',0)\n",
    "used = grouped.get('Used', 0)"
   ]
  },
  {
   "cell_type": "code",
   "execution_count": 892,
   "metadata": {},
   "outputs": [
    {
     "data": {
      "image/png": "[encoded data removed]",
      "text/plain": [
       "<Figure size 640x480 with 1 Axes>"
      ]
     },
     "metadata": {},
     "output_type": "display_data"
    }
   ],
   "source": [
    "plt.Figure(figsize=(12, 8))\n",
    "plt.bar(years, new, label='Novo', color='skyblue')\n",
    "plt.bar(years, like_new, bottom=new, label='Seminovo', color='orange')\n",
    "plt.bar(years, used, bottom=new + like_new, label='Seminovo', color='green')\n",
    "plt.xlabel('Ano')\n",
    "plt.ylabel('Contagem')\n",
    "plt.title('Distribuição por condição ao longo dos anos')\n",
    "plt.tight_layout()"
   ]
  },
  {
   "cell_type": "markdown",
   "metadata": {},
   "source": [
    "**Observa-se que a quantidade total de veículos por ano é relativamente estável, mas há variações nas proporções entre as condições. Isso pode refletir mudanças no mercado, como aumento ou queda na demanda por carros novos ou usados em diferentes períodos.**"
   ]
  },
  {
   "cell_type": "markdown",
   "metadata": {},
   "source": [
    "Treemap (visualização hierárquica) da condição, tipo de combustivel e transmissão dos veiculos."
   ]
  },
  {
   "cell_type": "code",
   "execution_count": 893,
   "metadata": {},
   "outputs": [],
   "source": [
    "grouped_df_9 = df.groupby(['Condition', 'Fuel Type', 'Transmission']).size().reset_index(name='Count')\n",
    "grouped_df_9 = grouped_df_9.sort_values(['Condition', 'Fuel Type', 'Transmission'])"
   ]
  },
  {
   "cell_type": "code",
   "execution_count": 894,
   "metadata": {},
   "outputs": [
    {
     "data": {
      "application/vnd.plotly.v1+json": {
       "config": {
        "plotlyServerURL": "https://plot.ly"
       },
       "data": [
        {
         "branchvalues": "total",
         "customdata": [
          [
           93
          ],
          [
           96
          ],
          [
           120
          ],
          [
           96
          ],
          [
           96
          ],
          [
           99
          ],
          [
           102
          ],
          [
           83
          ],
          [
           91
          ],
          [
           103
          ],
          [
           111
          ],
          [
           102
          ],
          [
           124
          ],
          [
           102
          ],
          [
           120
          ],
          [
           96
          ],
          [
           112
          ],
          [
           115
          ],
          [
           107
          ],
          [
           123
          ],
          [
           95
          ],
          [
           115
          ],
          [
           86
          ],
          [
           113
          ],
          [
           110.71428571428571
          ],
          [
           99.0909090909091
          ],
          [
           120
          ],
          [
           96
          ],
          [
           104.61538461538461
          ],
          [
           107.59813084112149
          ],
          [
           104.5598086124402
          ],
          [
           106.88349514563107
          ],
          [
           93.04301075268818
          ],
          [
           109.3302752293578
          ],
          [
           100.08629441624366
          ],
          [
           107.78139534883721
          ],
          [
           105.43540669856459
          ],
          [
           102.7379480840544
          ],
          [
           107.95906432748538
          ],
          [
           105.4256
          ]
         ],
         "domain": {
          "x": [
           0,
           1
          ],
          "y": [
           0,
           1
          ]
         },
         "hovertemplate": "labels=%{label}<br>Count_sum=%{value}<br>parent=%{parent}<br>id=%{id}<br>Count=%{color}<extra></extra>",
         "ids": [
          "Total/Like New/Diesel/Automatic",
          "Total/New/Diesel/Automatic",
          "Total/Used/Diesel/Automatic",
          "Total/Like New/Electric/Automatic",
          "Total/New/Electric/Automatic",
          "Total/Used/Electric/Automatic",
          "Total/Like New/Hybrid/Automatic",
          "Total/New/Hybrid/Automatic",
          "Total/Used/Hybrid/Automatic",
          "Total/Like New/Petrol/Automatic",
          "Total/New/Petrol/Automatic",
          "Total/Used/Petrol/Automatic",
          "Total/Like New/Diesel/Manual",
          "Total/New/Diesel/Manual",
          "Total/Used/Diesel/Manual",
          "Total/Like New/Electric/Manual",
          "Total/New/Electric/Manual",
          "Total/Used/Electric/Manual",
          "Total/Like New/Hybrid/Manual",
          "Total/New/Hybrid/Manual",
          "Total/Used/Hybrid/Manual",
          "Total/Like New/Petrol/Manual",
          "Total/New/Petrol/Manual",
          "Total/Used/Petrol/Manual",
          "Total/Like New/Diesel",
          "Total/New/Diesel",
          "Total/Used/Diesel",
          "Total/Like New/Electric",
          "Total/New/Electric",
          "Total/Used/Electric",
          "Total/Like New/Hybrid",
          "Total/New/Hybrid",
          "Total/Used/Hybrid",
          "Total/Like New/Petrol",
          "Total/New/Petrol",
          "Total/Used/Petrol",
          "Total/Like New",
          "Total/New",
          "Total/Used",
          "Total"
         ],
         "labels": [
          "Automatic",
          "Automatic",
          "Automatic",
          "Automatic",
          "Automatic",
          "Automatic",
          "Automatic",
          "Automatic",
          "Automatic",
          "Automatic",
          "Automatic",
          "Automatic",
          "Manual",
          "Manual",
          "Manual",
          "Manual",
          "Manual",
          "Manual",
          "Manual",
          "Manual",
          "Manual",
          "Manual",
          "Manual",
          "Manual",
          "Diesel",
          "Diesel",
          "Diesel",
          "Electric",
          "Electric",
          "Electric",
          "Hybrid",
          "Hybrid",
          "Hybrid",
          "Petrol",
          "Petrol",
          "Petrol",
          "Like New",
          "New",
          "Used",
          "Total"
         ],
         "marker": {
          "coloraxis": "coloraxis",
          "colors": [
           93,
           96,
           120,
           96,
           96,
           99,
           102,
           83,
           91,
           103,
           111,
           102,
           124,
           102,
           120,
           96,
           112,
           115,
           107,
           123,
           95,
           115,
           86,
           113,
           110.71428571428571,
           99.0909090909091,
           120,
           96,
           104.61538461538461,
           107.59813084112149,
           104.5598086124402,
           106.88349514563107,
           93.04301075268818,
           109.3302752293578,
           100.08629441624366,
           107.78139534883721,
           105.43540669856459,
           102.7379480840544,
           107.95906432748538,
           105.4256
          ]
         },
         "name": "",
         "parents": [
          "Total/Like New/Diesel",
          "Total/New/Diesel",
          "Total/Used/Diesel",
          "Total/Like New/Electric",
          "Total/New/Electric",
          "Total/Used/Electric",
          "Total/Like New/Hybrid",
          "Total/New/Hybrid",
          "Total/Used/Hybrid",
          "Total/Like New/Petrol",
          "Total/New/Petrol",
          "Total/Used/Petrol",
          "Total/Like New/Diesel",
          "Total/New/Diesel",
          "Total/Used/Diesel",
          "Total/Like New/Electric",
          "Total/New/Electric",
          "Total/Used/Electric",
          "Total/Like New/Hybrid",
          "Total/New/Hybrid",
          "Total/Used/Hybrid",
          "Total/Like New/Petrol",
          "Total/New/Petrol",
          "Total/Used/Petrol",
          "Total/Like New",
          "Total/New",
          "Total/Used",
          "Total/Like New",
          "Total/New",
          "Total/Used",
          "Total/Like New",
          "Total/New",
          "Total/Used",
          "Total/Like New",
          "Total/New",
          "Total/Used",
          "Total",
          "Total",
          "Total",
          ""
         ],
         "type": "treemap",
         "values": [
          93,
          96,
          120,
          96,
          96,
          99,
          102,
          83,
          91,
          103,
          111,
          102,
          124,
          102,
          120,
          96,
          112,
          115,
          107,
          123,
          95,
          115,
          86,
          113,
          217,
          198,
          240,
          192,
          208,
          214,
          209,
          206,
          186,
          218,
          197,
          215,
          836,
          809,
          855,
          2500
         ]
        }
       ],
       "layout": {
        "coloraxis": {
         "colorbar": {
          "title": {
           "text": "Count"
          }
         },
         "colorscale": [
          [
           0,
           "#440154"
          ],
          [
           0.1111111111111111,
           "#482878"
          ],
          [
           0.2222222222222222,
           "#3e4989"
          ],
          [
           0.3333333333333333,
           "#31688e"
          ],
          [
           0.4444444444444444,
           "#26828e"
          ],
          [
           0.5555555555555556,
           "#1f9e89"
          ],
          [
           0.6666666666666666,
           "#35b779"
          ],
          [
           0.7777777777777778,
           "#6ece58"
          ],
          [
           0.8888888888888888,
           "#b5de2b"
          ],
          [
           1,
           "#fde725"
          ]
         ]
        },
        "height": 600,
        "legend": {
         "tracegroupgap": 0
        },
        "template": {
         "data": {
          "bar": [
           {
            "error_x": {
             "color": "#2a3f5f"
            },
            "error_y": {
             "color": "#2a3f5f"
            },
            "marker": {
             "line": {
              "color": "#E5ECF6",
              "width": 0.5
             },
             "pattern": {
              "fillmode": "overlay",
              "size": 10,
              "solidity": 0.2
             }
            },
            "type": "bar"
           }
          ],
          "barpolar": [
           {
            "marker": {
             "line": {
              "color": "#E5ECF6",
              "width": 0.5
             },
             "pattern": {
              "fillmode": "overlay",
              "size": 10,
              "solidity": 0.2
             }
            },
            "type": "barpolar"
           }
          ],
          "carpet": [
           {
            "aaxis": {
             "endlinecolor": "#2a3f5f",
             "gridcolor": "white",
             "linecolor": "white",
             "minorgridcolor": "white",
             "startlinecolor": "#2a3f5f"
            },
            "baxis": {
             "endlinecolor": "#2a3f5f",
             "gridcolor": "white",
             "linecolor": "white",
             "minorgridcolor": "white",
             "startlinecolor": "#2a3f5f"
            },
            "type": "carpet"
           }
          ],
          "choropleth": [
           {
            "colorbar": {
             "outlinewidth": 0,
             "ticks": ""
            },
            "type": "choropleth"
           }
          ],
          "contour": [
           {
            "colorbar": {
             "outlinewidth": 0,
             "ticks": ""
            },
            "colorscale": [
             [
              0,
              "#0d0887"
             ],
             [
              0.1111111111111111,
              "#46039f"
             ],
             [
              0.2222222222222222,
              "#7201a8"
             ],
             [
              0.3333333333333333,
              "#9c179e"
             ],
             [
              0.4444444444444444,
              "#bd3786"
             ],
             [
              0.5555555555555556,
              "#d8576b"
             ],
             [
              0.6666666666666666,
              "#ed7953"
             ],
             [
              0.7777777777777778,
              "#fb9f3a"
             ],
             [
              0.8888888888888888,
              "#fdca26"
             ],
             [
              1,
              "#f0f921"
             ]
            ],
            "type": "contour"
           }
          ],
          "contourcarpet": [
           {
            "colorbar": {
             "outlinewidth": 0,
             "ticks": ""
            },
            "type": "contourcarpet"
           }
          ],
          "heatmap": [
           {
            "colorbar": {
             "outlinewidth": 0,
             "ticks": ""
            },
            "colorscale": [
             [
              0,
              "#0d0887"
             ],
             [
              0.1111111111111111,
              "#46039f"
             ],
             [
              0.2222222222222222,
              "#7201a8"
             ],
             [
              0.3333333333333333,
              "#9c179e"
             ],
             [
              0.4444444444444444,
              "#bd3786"
             ],
             [
              0.5555555555555556,
              "#d8576b"
             ],
             [
              0.6666666666666666,
              "#ed7953"
             ],
             [
              0.7777777777777778,
              "#fb9f3a"
             ],
             [
              0.8888888888888888,
              "#fdca26"
             ],
             [
              1,
              "#f0f921"
             ]
            ],
            "type": "heatmap"
           }
          ],
          "heatmapgl": [
           {
            "colorbar": {
             "outlinewidth": 0,
             "ticks": ""
            },
            "colorscale": [
             [
              0,
              "#0d0887"
             ],
             [
              0.1111111111111111,
              "#46039f"
             ],
             [
              0.2222222222222222,
              "#7201a8"
             ],
             [
              0.3333333333333333,
              "#9c179e"
             ],
             [
              0.4444444444444444,
              "#bd3786"
             ],
             [
              0.5555555555555556,
              "#d8576b"
             ],
             [
              0.6666666666666666,
              "#ed7953"
             ],
             [
              0.7777777777777778,
              "#fb9f3a"
             ],
             [
              0.8888888888888888,
              "#fdca26"
             ],
             [
              1,
              "#f0f921"
             ]
            ],
            "type": "heatmapgl"
           }
          ],
          "histogram": [
           {
            "marker": {
             "pattern": {
              "fillmode": "overlay",
              "size": 10,
              "solidity": 0.2
             }
            },
            "type": "histogram"
           }
          ],
          "histogram2d": [
           {
            "colorbar": {
             "outlinewidth": 0,
             "ticks": ""
            },
            "colorscale": [
             [
              0,
              "#0d0887"
             ],
             [
              0.1111111111111111,
              "#46039f"
             ],
             [
              0.2222222222222222,
              "#7201a8"
             ],
             [
              0.3333333333333333,
              "#9c179e"
             ],
             [
              0.4444444444444444,
              "#bd3786"
             ],
             [
              0.5555555555555556,
              "#d8576b"
             ],
             [
              0.6666666666666666,
              "#ed7953"
             ],
             [
              0.7777777777777778,
              "#fb9f3a"
             ],
             [
              0.8888888888888888,
              "#fdca26"
             ],
             [
              1,
              "#f0f921"
             ]
            ],
            "type": "histogram2d"
           }
          ],
          "histogram2dcontour": [
           {
            "colorbar": {
             "outlinewidth": 0,
             "ticks": ""
            },
            "colorscale": [
             [
              0,
              "#0d0887"
             ],
             [
              0.1111111111111111,
              "#46039f"
             ],
             [
              0.2222222222222222,
              "#7201a8"
             ],
             [
              0.3333333333333333,
              "#9c179e"
             ],
             [
              0.4444444444444444,
              "#bd3786"
             ],
             [
              0.5555555555555556,
              "#d8576b"
             ],
             [
              0.6666666666666666,
              "#ed7953"
             ],
             [
              0.7777777777777778,
              "#fb9f3a"
             ],
             [
              0.8888888888888888,
              "#fdca26"
             ],
             [
              1,
              "#f0f921"
             ]
            ],
            "type": "histogram2dcontour"
           }
          ],
          "mesh3d": [
           {
            "colorbar": {
             "outlinewidth": 0,
             "ticks": ""
            },
            "type": "mesh3d"
           }
          ],
          "parcoords": [
           {
            "line": {
             "colorbar": {
              "outlinewidth": 0,
              "ticks": ""
             }
            },
            "type": "parcoords"
           }
          ],
          "pie": [
           {
            "automargin": true,
            "type": "pie"
           }
          ],
          "scatter": [
           {
            "fillpattern": {
             "fillmode": "overlay",
             "size": 10,
             "solidity": 0.2
            },
            "type": "scatter"
           }
          ],
          "scatter3d": [
           {
            "line": {
             "colorbar": {
              "outlinewidth": 0,
              "ticks": ""
             }
            },
            "marker": {
             "colorbar": {
              "outlinewidth": 0,
              "ticks": ""
             }
            },
            "type": "scatter3d"
           }
          ],
          "scattercarpet": [
           {
            "marker": {
             "colorbar": {
              "outlinewidth": 0,
              "ticks": ""
             }
            },
            "type": "scattercarpet"
           }
          ],
          "scattergeo": [
           {
            "marker": {
             "colorbar": {
              "outlinewidth": 0,
              "ticks": ""
             }
            },
            "type": "scattergeo"
           }
          ],
          "scattergl": [
           {
            "marker": {
             "colorbar": {
              "outlinewidth": 0,
              "ticks": ""
             }
            },
            "type": "scattergl"
           }
          ],
          "scattermapbox": [
           {
            "marker": {
             "colorbar": {
              "outlinewidth": 0,
              "ticks": ""
             }
            },
            "type": "scattermapbox"
           }
          ],
          "scatterpolar": [
           {
            "marker": {
             "colorbar": {
              "outlinewidth": 0,
              "ticks": ""
             }
            },
            "type": "scatterpolar"
           }
          ],
          "scatterpolargl": [
           {
            "marker": {
             "colorbar": {
              "outlinewidth": 0,
              "ticks": ""
             }
            },
            "type": "scatterpolargl"
           }
          ],
          "scatterternary": [
           {
            "marker": {
             "colorbar": {
              "outlinewidth": 0,
              "ticks": ""
             }
            },
            "type": "scatterternary"
           }
          ],
          "surface": [
           {
            "colorbar": {
             "outlinewidth": 0,
             "ticks": ""
            },
            "colorscale": [
             [
              0,
              "#0d0887"
             ],
             [
              0.1111111111111111,
              "#46039f"
             ],
             [
              0.2222222222222222,
              "#7201a8"
             ],
             [
              0.3333333333333333,
              "#9c179e"
             ],
             [
              0.4444444444444444,
              "#bd3786"
             ],
             [
              0.5555555555555556,
              "#d8576b"
             ],
             [
              0.6666666666666666,
              "#ed7953"
             ],
             [
              0.7777777777777778,
              "#fb9f3a"
             ],
             [
              0.8888888888888888,
              "#fdca26"
             ],
             [
              1,
              "#f0f921"
             ]
            ],
            "type": "surface"
           }
          ],
          "table": [
           {
            "cells": {
             "fill": {
              "color": "#EBF0F8"
             },
             "line": {
              "color": "white"
             }
            },
            "header": {
             "fill": {
              "color": "#C8D4E3"
             },
             "line": {
              "color": "white"
             }
            },
            "type": "table"
           }
          ]
         },
         "layout": {
          "annotationdefaults": {
           "arrowcolor": "#2a3f5f",
           "arrowhead": 0,
           "arrowwidth": 1
          },
          "autotypenumbers": "strict",
          "coloraxis": {
           "colorbar": {
            "outlinewidth": 0,
            "ticks": ""
           }
          },
          "colorscale": {
           "diverging": [
            [
             0,
             "#8e0152"
            ],
            [
             0.1,
             "#c51b7d"
            ],
            [
             0.2,
             "#de77ae"
            ],
            [
             0.3,
             "#f1b6da"
            ],
            [
             0.4,
             "#fde0ef"
            ],
            [
             0.5,
             "#f7f7f7"
            ],
            [
             0.6,
             "#e6f5d0"
            ],
            [
             0.7,
             "#b8e186"
            ],
            [
             0.8,
             "#7fbc41"
            ],
            [
             0.9,
             "#4d9221"
            ],
            [
             1,
             "#276419"
            ]
           ],
           "sequential": [
            [
             0,
             "#0d0887"
            ],
            [
             0.1111111111111111,
             "#46039f"
            ],
            [
             0.2222222222222222,
             "#7201a8"
            ],
            [
             0.3333333333333333,
             "#9c179e"
            ],
            [
             0.4444444444444444,
             "#bd3786"
            ],
            [
             0.5555555555555556,
             "#d8576b"
            ],
            [
             0.6666666666666666,
             "#ed7953"
            ],
            [
             0.7777777777777778,
             "#fb9f3a"
            ],
            [
             0.8888888888888888,
             "#fdca26"
            ],
            [
             1,
             "#f0f921"
            ]
           ],
           "sequentialminus": [
            [
             0,
             "#0d0887"
            ],
            [
             0.1111111111111111,
             "#46039f"
            ],
            [
             0.2222222222222222,
             "#7201a8"
            ],
            [
             0.3333333333333333,
             "#9c179e"
            ],
            [
             0.4444444444444444,
             "#bd3786"
            ],
            [
             0.5555555555555556,
             "#d8576b"
            ],
            [
             0.6666666666666666,
             "#ed7953"
            ],
            [
             0.7777777777777778,
             "#fb9f3a"
            ],
            [
             0.8888888888888888,
             "#fdca26"
            ],
            [
             1,
             "#f0f921"
            ]
           ]
          },
          "colorway": [
           "#636efa",
           "#EF553B",
           "#00cc96",
           "#ab63fa",
           "#FFA15A",
           "#19d3f3",
           "#FF6692",
           "#B6E880",
           "#FF97FF",
           "#FECB52"
          ],
          "font": {
           "color": "#2a3f5f"
          },
          "geo": {
           "bgcolor": "white",
           "lakecolor": "white",
           "landcolor": "#E5ECF6",
           "showlakes": true,
           "showland": true,
           "subunitcolor": "white"
          },
          "hoverlabel": {
           "align": "left"
          },
          "hovermode": "closest",
          "mapbox": {
           "style": "light"
          },
          "paper_bgcolor": "white",
          "plot_bgcolor": "#E5ECF6",
          "polar": {
           "angularaxis": {
            "gridcolor": "white",
            "linecolor": "white",
            "ticks": ""
           },
           "bgcolor": "#E5ECF6",
           "radialaxis": {
            "gridcolor": "white",
            "linecolor": "white",
            "ticks": ""
           }
          },
          "scene": {
           "xaxis": {
            "backgroundcolor": "#E5ECF6",
            "gridcolor": "white",
            "gridwidth": 2,
            "linecolor": "white",
            "showbackground": true,
            "ticks": "",
            "zerolinecolor": "white"
           },
           "yaxis": {
            "backgroundcolor": "#E5ECF6",
            "gridcolor": "white",
            "gridwidth": 2,
            "linecolor": "white",
            "showbackground": true,
            "ticks": "",
            "zerolinecolor": "white"
           },
           "zaxis": {
            "backgroundcolor": "#E5ECF6",
            "gridcolor": "white",
            "gridwidth": 2,
            "linecolor": "white",
            "showbackground": true,
            "ticks": "",
            "zerolinecolor": "white"
           }
          },
          "shapedefaults": {
           "line": {
            "color": "#2a3f5f"
           }
          },
          "ternary": {
           "aaxis": {
            "gridcolor": "white",
            "linecolor": "white",
            "ticks": ""
           },
           "baxis": {
            "gridcolor": "white",
            "linecolor": "white",
            "ticks": ""
           },
           "bgcolor": "#E5ECF6",
           "caxis": {
            "gridcolor": "white",
            "linecolor": "white",
            "ticks": ""
           }
          },
          "title": {
           "x": 0.05
          },
          "xaxis": {
           "automargin": true,
           "gridcolor": "white",
           "linecolor": "white",
           "ticks": "",
           "title": {
            "standoff": 15
           },
           "zerolinecolor": "white",
           "zerolinewidth": 2
          },
          "yaxis": {
           "automargin": true,
           "gridcolor": "white",
           "linecolor": "white",
           "ticks": "",
           "title": {
            "standoff": 15
           },
           "zerolinecolor": "white",
           "zerolinewidth": 2
          }
         }
        },
        "title": {
         "font": {
          "size": 18
         },
         "text": "Treemap de Tipos de Combustível e Transmissão por Condição",
         "x": 0.5
        },
        "width": 800
       }
      }
     },
     "metadata": {},
     "output_type": "display_data"
    }
   ],
   "source": [
    "import plotly.express as px\n",
    "# Create treemap\n",
    "fig = px.treemap(grouped_df_9, \n",
    "                 path=[px.Constant(\"Total\"), 'Condition', 'Fuel Type', 'Transmission'],\n",
    "                 values='Count',\n",
    "                 color='Count',\n",
    "                 color_continuous_scale='Viridis',\n",
    "                 title='Treemap de Tipos de Combustível e Transmissão por Condição')\n",
    "\n",
    "fig.update_layout(\n",
    "    width=800,\n",
    "    height=600,\n",
    "    title_x=0.5,\n",
    "    title_font_size=18\n",
    ")"
   ]
  },
  {
   "cell_type": "markdown",
   "metadata": {},
   "source": [
    "- \"Diesel\" e \"Petrol\" predominam em várias condições, enquanto \"Electric\" e \"Hybrid\" aparecem mais em \"New\" ou \"Like New\".\n",
    "- A transmissão \"Automatic\" é amplamente utilizada em todas as categorias de combustível, indicando uma possível preferência do mercado.\n",
    "- A intensidade da cor reflete a contagem, com \"Diesel Automatic\" e \"Petrol Automatic\" tendo maior frequência."
   ]
  },
  {
   "cell_type": "markdown",
   "metadata": {},
   "source": [
    "Evolução do preço médio dos carros pelo tipo de comsbustível."
   ]
  },
  {
   "cell_type": "code",
   "execution_count": 895,
   "metadata": {},
   "outputs": [
    {
     "data": {
      "text/html": [
       "<div>\n",
       "<style scoped>\n",
       "    .dataframe tbody tr th:only-of-type {\n",
       "        vertical-align: middle;\n",
       "    }\n",
       "\n",
       "    .dataframe tbody tr th {\n",
       "        vertical-align: top;\n",
       "    }\n",
       "\n",
       "    .dataframe thead th {\n",
       "        text-align: right;\n",
       "    }\n",
       "</style>\n",
       "<table border=\"1\" class=\"dataframe\">\n",
       "  <thead>\n",
       "    <tr style=\"text-align: right;\">\n",
       "      <th></th>\n",
       "      <th>Year</th>\n",
       "      <th>Fuel Type</th>\n",
       "      <th>Price</th>\n",
       "    </tr>\n",
       "  </thead>\n",
       "  <tbody>\n",
       "    <tr>\n",
       "      <th>0</th>\n",
       "      <td>2000</td>\n",
       "      <td>Diesel</td>\n",
       "      <td>67016.690400</td>\n",
       "    </tr>\n",
       "    <tr>\n",
       "      <th>1</th>\n",
       "      <td>2000</td>\n",
       "      <td>Electric</td>\n",
       "      <td>43899.120417</td>\n",
       "    </tr>\n",
       "    <tr>\n",
       "      <th>2</th>\n",
       "      <td>2000</td>\n",
       "      <td>Hybrid</td>\n",
       "      <td>47921.274583</td>\n",
       "    </tr>\n",
       "    <tr>\n",
       "      <th>3</th>\n",
       "      <td>2000</td>\n",
       "      <td>Petrol</td>\n",
       "      <td>52932.523000</td>\n",
       "    </tr>\n",
       "    <tr>\n",
       "      <th>4</th>\n",
       "      <td>2001</td>\n",
       "      <td>Diesel</td>\n",
       "      <td>49576.259643</td>\n",
       "    </tr>\n",
       "    <tr>\n",
       "      <th>...</th>\n",
       "      <td>...</td>\n",
       "      <td>...</td>\n",
       "      <td>...</td>\n",
       "    </tr>\n",
       "    <tr>\n",
       "      <th>91</th>\n",
       "      <td>2022</td>\n",
       "      <td>Petrol</td>\n",
       "      <td>58051.187000</td>\n",
       "    </tr>\n",
       "    <tr>\n",
       "      <th>92</th>\n",
       "      <td>2023</td>\n",
       "      <td>Diesel</td>\n",
       "      <td>55058.596429</td>\n",
       "    </tr>\n",
       "    <tr>\n",
       "      <th>93</th>\n",
       "      <td>2023</td>\n",
       "      <td>Electric</td>\n",
       "      <td>49867.628571</td>\n",
       "    </tr>\n",
       "    <tr>\n",
       "      <th>94</th>\n",
       "      <td>2023</td>\n",
       "      <td>Hybrid</td>\n",
       "      <td>51093.042414</td>\n",
       "    </tr>\n",
       "    <tr>\n",
       "      <th>95</th>\n",
       "      <td>2023</td>\n",
       "      <td>Petrol</td>\n",
       "      <td>48651.848800</td>\n",
       "    </tr>\n",
       "  </tbody>\n",
       "</table>\n",
       "<p>96 rows × 3 columns</p>\n",
       "</div>"
      ],
      "text/plain": [
       "    Year Fuel Type         Price\n",
       "0   2000    Diesel  67016.690400\n",
       "1   2000  Electric  43899.120417\n",
       "2   2000    Hybrid  47921.274583\n",
       "3   2000    Petrol  52932.523000\n",
       "4   2001    Diesel  49576.259643\n",
       "..   ...       ...           ...\n",
       "91  2022    Petrol  58051.187000\n",
       "92  2023    Diesel  55058.596429\n",
       "93  2023  Electric  49867.628571\n",
       "94  2023    Hybrid  51093.042414\n",
       "95  2023    Petrol  48651.848800\n",
       "\n",
       "[96 rows x 3 columns]"
      ]
     },
     "execution_count": 895,
     "metadata": {},
     "output_type": "execute_result"
    }
   ],
   "source": [
    "grouped_df_10 = df.groupby(['Year', 'Fuel Type'])['Price'].mean().reset_index()\n",
    "grouped_df_10 = grouped_df_10.sort_values(['Year', 'Fuel Type', 'Price'])\n",
    "grouped_df_10"
   ]
  },
  {
   "cell_type": "code",
   "execution_count": 896,
   "metadata": {},
   "outputs": [
    {
     "data": {
      "image/png": "[encoded data removed]",
      "text/plain": [
       "<Figure size 640x480 with 1 Axes>"
      ]
     },
     "metadata": {},
     "output_type": "display_data"
    }
   ],
   "source": [
    "plt.Figure(figsize=(20, 12))\n",
    "sns.lineplot(data=grouped_df_10, x='Year', y='Price', hue='Fuel Type', errorbar=None)\n",
    "plt.title('Evolução de preços por ano e tipo de combustível')\n",
    "plt.xlabel('Ano')\n",
    "plt.ylabel('Preço')\n",
    "plt.tight_layout()"
   ]
  },
  {
   "cell_type": "markdown",
   "metadata": {},
   "source": [
    "Observa-se uma alta variação nos preços dos carros em todos os tipos de combustível, sem uma tendência clara de aumento ou redução consistente ao longo do tempo. Isso pode indicar flutuações influenciadas por fatores como demanda, inovação tecnológica e mudanças no mercado ou políticas ambientais.\n",
    "\n",
    "**Porem, assim como no inicio desse notebook é observado que o eixo y desse gráfico não tem uma base zero, então podemos concluir que a variancia não é tão alta assim. Visto que o gráfico começa do valor de 40 mil e vai um pouco mais de 65 mil.**"
   ]
  },
  {
   "cell_type": "markdown",
   "metadata": {},
   "source": [
    "### 04. Teste de hipoteses\n",
    "\n",
    "a diferença dos preços dos carros por condição é significativa ou mera obra do acaso?"
   ]
  },
  {
   "cell_type": "code",
   "execution_count": 897,
   "metadata": {},
   "outputs": [
    {
     "name": "stdout",
     "output_type": "stream",
     "text": [
      "Resultado ANOVA:\n",
      "F-Statistic: 0.7431\n",
      "P-Value: 0.4757\n"
     ]
    }
   ],
   "source": [
    "import scipy.stats as stats\n",
    "\n",
    "groups = [df[df['Condition'] == cond]['Price'] for cond in df['Condition'].unique()]\n",
    "f_statistic, p_value = stats.f_oneway(*groups)\n",
    "\n",
    "print('Resultado ANOVA:')\n",
    "print(f'F-Statistic: {f_statistic:.4f}')\n",
    "print(f'P-Value: {p_value:.4f}')"
   ]
  },
  {
   "cell_type": "markdown",
   "metadata": {},
   "source": [
    "O resultado da ANOVA (Análise de Variância) que eu obteve indica o seguinte:\n",
    "\n",
    "- **F-Statistic: 0.7431**: Este valor é a razão entre a variância entre os grupos e a variância dentro dos grupos. Um valor mais alto geralmente indica que há uma diferença significativa entre os grupos.\n",
    "- **P-Value: 0.4757**: Este valor indica a probabilidade de obter um resultado tão extremo quanto o observado, assumindo que a hipótese nula é verdadeira. Um valor de p maior que 0.05 geralmente sugere que não há evidência suficiente para rejeitar a hipótese nula.\n",
    "\n",
    "Portanto, com um p-value de 0.4757, você não tem evidência estatística suficiente para concluir que há uma diferença significativa entre os grupos analisados. Em outras palavras, as diferenças observadas entre os grupos podem ser devidas ao acaso."
   ]
  },
  {
   "cell_type": "markdown",
   "metadata": {},
   "source": [
    "### 05. Construção de um modelo (falho) de machine learning"
   ]
  },
  {
   "cell_type": "code",
   "execution_count": 898,
   "metadata": {},
   "outputs": [],
   "source": [
    "from sklearn.model_selection import train_test_split, cross_val_score\n",
    "from sklearn.preprocessing import LabelEncoder, StandardScaler\n",
    "from sklearn.linear_model import LinearRegression, Ridge, Lasso\n",
    "from sklearn.tree import DecisionTreeRegressor\n",
    "from sklearn.ensemble import RandomForestRegressor, GradientBoostingRegressor\n",
    "from sklearn.svm import SVR\n",
    "from sklearn.metrics import mean_squared_error, r2_score\n",
    "import warnings\n",
    "\n",
    "warnings.filterwarnings('ignore')"
   ]
  },
  {
   "cell_type": "code",
   "execution_count": 899,
   "metadata": {},
   "outputs": [],
   "source": [
    "class CarPricePredictionModel:\n",
    "    def __init__(self, data):\n",
    "        self.data = pd.DataFrame(data)\n",
    "        self.label_encoders = {}\n",
    "        self.scaler = StandardScaler()\n",
    "        self.model = None\n",
    "        \n",
    "    def preprocess_data(self):\n",
    "        # Codificação de variáveis categóricas\n",
    "        categorical_columns = ['Brand', 'Fuel Type', 'Transmission', 'Condition', 'Model']\n",
    "        \n",
    "        for col in categorical_columns:\n",
    "            le = LabelEncoder()\n",
    "            self.data[col] = le.fit_transform(self.data[col])\n",
    "            self.label_encoders[col] = le\n",
    "        \n",
    "        # Separação de features e target\n",
    "        X = self.data.drop('Price', axis=1)\n",
    "        y = self.data['Price']\n",
    "        \n",
    "        # Divisão dos dados de treino e teste\n",
    "        X_train, X_test, y_train, y_test = train_test_split(X, y, test_size=0.2, random_state=42)\n",
    "        \n",
    "        # Padronização das features\n",
    "        X_train_scaled = self.scaler.fit_transform(X_train)\n",
    "        X_test_scaled = self.scaler.transform(X_test)\n",
    "        \n",
    "        return X_train_scaled, X_test_scaled, y_train, y_test\n",
    "    \n",
    "    def train_model(self, algorithm='linear_regression'):\n",
    "        X_train, X_test, y_train, y_test = self.preprocess_data()\n",
    "        \n",
    "        # Dicionário de algoritmos\n",
    "        algorithms = {\n",
    "            'linear_regression': LinearRegression(),\n",
    "            'ridge_regression': Ridge(alpha=1.0),\n",
    "            'lasso_regression': Lasso(alpha=1.0),\n",
    "            'decision_tree': DecisionTreeRegressor(random_state=42),\n",
    "            'random_forest': RandomForestRegressor(n_estimators=100, random_state=42),\n",
    "            'gradient_boosting': GradientBoostingRegressor(n_estimators=100, random_state=42),\n",
    "            'support_vector_regression': SVR(kernel='rbf')\n",
    "        }\n",
    "        \n",
    "        # Treinar modelo\n",
    "        self.model = algorithms.get(algorithm)\n",
    "        self.model.fit(X_train, y_train)\n",
    "        \n",
    "        # Avaliar modelo\n",
    "        y_pred = self.model.predict(X_test)\n",
    "        mse = mean_squared_error(y_test, y_pred)\n",
    "        r2 = r2_score(y_test, y_pred)\n",
    "        \n",
    "        # Cross-validation\n",
    "        cv_scores = cross_val_score(self.model, X_train, y_train, cv=5, scoring='neg_mean_squared_error')\n",
    "        \n",
    "        print(f\"Algoritmo: {algorithm}\")\n",
    "        print(f\"Erro Quadrático Médio: {mse:.2f}\")\n",
    "        print(f\"Coeficiente de Determinação (R²): {r2:.2f}\")\n",
    "        print(f\"Cross-Validation MSE: {-cv_scores.mean():.2f} (+/- {cv_scores.std() * 2:.2f})\")\n",
    "        \n",
    "        return self.model\n",
    "    \n",
    "    def predict_car_price(self, new_car_data):\n",
    "        # Preparar dados do novo carro\n",
    "        new_car_df = pd.DataFrame([new_car_data])\n",
    "        \n",
    "        # Aplicar label encoding\n",
    "        categorical_columns = ['Brand', 'Fuel Type', 'Transmission', 'Condition', 'Model']\n",
    "        for col in categorical_columns:\n",
    "            new_car_df[col] = self.label_encoders[col].transform(new_car_df[col])\n",
    "        \n",
    "        # Padronizar dados\n",
    "        new_car_scaled = self.scaler.transform(new_car_df)\n",
    "        \n",
    "        # Prever preço\n",
    "        predicted_price = self.model.predict(new_car_scaled)\n",
    "        return predicted_price[0]"
   ]
  },
  {
   "cell_type": "code",
   "execution_count": 900,
   "metadata": {},
   "outputs": [],
   "source": [
    "car_model = CarPricePredictionModel(df)"
   ]
  },
  {
   "cell_type": "code",
   "execution_count": 901,
   "metadata": {},
   "outputs": [],
   "source": [
    "# Testar diferentes algoritmos\n",
    "algorithms_to_test = [\n",
    "    'linear_regression', \n",
    "    'ridge_regression', \n",
    "    'lasso_regression', \n",
    "    'decision_tree', \n",
    "    'random_forest', \n",
    "    'gradient_boosting', \n",
    "    'support_vector_regression'\n",
    "]"
   ]
  },
  {
   "cell_type": "code",
   "execution_count": 902,
   "metadata": {},
   "outputs": [
    {
     "name": "stdout",
     "output_type": "stream",
     "text": [
      "\n",
      "==================================================\n",
      "Algoritmo: linear_regression\n",
      "Erro Quadrático Médio: 759016533.57\n",
      "Coeficiente de Determinação (R²): -0.00\n",
      "Cross-Validation MSE: 746756928.61 (+/- 53588809.14)\n",
      "\n",
      "==================================================\n",
      "Algoritmo: ridge_regression\n",
      "Erro Quadrático Médio: 759014942.20\n",
      "Coeficiente de Determinação (R²): -0.00\n",
      "Cross-Validation MSE: 746751913.83 (+/- 53586629.53)\n",
      "\n",
      "==================================================\n",
      "Algoritmo: lasso_regression\n",
      "Erro Quadrático Médio: 759012489.74\n",
      "Coeficiente de Determinação (R²): -0.00\n",
      "Cross-Validation MSE: 746747485.10 (+/- 53582262.82)\n",
      "\n",
      "==================================================\n",
      "Algoritmo: decision_tree\n",
      "Erro Quadrático Médio: 1436456175.76\n",
      "Coeficiente de Determinação (R²): -0.90\n",
      "Cross-Validation MSE: 1473948218.70 (+/- 107042018.66)\n",
      "\n",
      "==================================================\n",
      "Algoritmo: random_forest\n",
      "Erro Quadrático Médio: 799524341.08\n",
      "Coeficiente de Determinação (R²): -0.06\n",
      "Cross-Validation MSE: 782354385.80 (+/- 89234889.39)\n",
      "\n",
      "==================================================\n",
      "Algoritmo: gradient_boosting\n",
      "Erro Quadrático Médio: 770497442.17\n",
      "Coeficiente de Determinação (R²): -0.02\n",
      "Cross-Validation MSE: 780292698.15 (+/- 79201514.48)\n",
      "\n",
      "==================================================\n",
      "Algoritmo: support_vector_regression\n",
      "Erro Quadrático Médio: 757564995.85\n",
      "Coeficiente de Determinação (R²): -0.00\n",
      "Cross-Validation MSE: 744148619.85 (+/- 49900965.94)\n"
     ]
    }
   ],
   "source": [
    "for algo in algorithms_to_test:\n",
    "    print(\"\\n\" + \"=\"*50)\n",
    "    car_model.train_model(algo)"
   ]
  },
  {
   "cell_type": "markdown",
   "metadata": {},
   "source": [
    "### Análise dos Resultados\n",
    "\n",
    "**Problemas Fundamentais:**\n",
    "\n",
    "- R² próximo de zero ou negativo\n",
    "- Erro Quadrático Médio extremamente alto\n",
    "- Resultados consistentemente ruins em todos os algoritmos\n",
    "\n",
    "**Causas Prováveis:**\n",
    "\n",
    "- Dataset extremamente pequeno e inconsistente\n",
    "- Features não representativas do preço do carro\n",
    "- Grande variabilidade nos dados\n",
    "- Possível erro na preparação/codificação dos dados\n",
    "\n",
    "**Recomendações:**\n",
    "\n",
    "- Aumentar significativamente o tamanho do dataset\n",
    "- Verificar a qualidade e relevância das features\n",
    "- Realizar uma análise exploratória dos dados\n",
    "- Investigar a distribuição dos preços\n",
    "- Checar se há outliers extremos\n",
    "- Considerar feature engineering"
   ]
  }
 ],
 "metadata": {
  "kernelspec": {
   "display_name": "Python 3",
   "language": "python",
   "name": "python3"
  },
  "language_info": {
   "codemirror_mode": {
    "name": "ipython",
    "version": 3
   },
   "file_extension": ".py",
   "mimetype": "text/x-python",
   "name": "python",
   "nbconvert_exporter": "python",
   "pygments_lexer": "ipython3",
   "version": "3.12.5"
  }
 },
 "nbformat": 4,
 "nbformat_minor": 2
}
